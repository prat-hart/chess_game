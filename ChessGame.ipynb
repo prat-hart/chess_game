{
  "nbformat": 4,
  "nbformat_minor": 0,
  "metadata": {
    "colab": {
      "name": "ChessGame.ipynb",
      "provenance": [],
      "collapsed_sections": [],
      "include_colab_link": true
    },
    "kernelspec": {
      "display_name": "Python 3",
      "name": "python3"
    }
  },
  "cells": [
    {
      "cell_type": "markdown",
      "metadata": {
        "id": "view-in-github",
        "colab_type": "text"
      },
      "source": [
        "<a href=\"https://colab.research.google.com/github/prat-hart/chess_game/blob/main/ChessGame.ipynb\" target=\"_parent\"><img src=\"https://colab.research.google.com/assets/colab-badge.svg\" alt=\"Open In Colab\"/></a>"
      ]
    },
    {
      "cell_type": "markdown",
      "metadata": {
        "id": "NM8b9KVYsETT"
      },
      "source": [
        "## Learning Objectives\n",
        "\n",
        "\n",
        "\n",
        "*   Game Playing\n",
        "*   Chess - Board Setup & Rules\n",
        "*   Adversarial Search\n",
        "*   AI - Random vs MinMax\n"
      ]
    },
    {
      "cell_type": "markdown",
      "metadata": {
        "id": "vnPfmHAOteOI"
      },
      "source": [
        "##Import Libraries\n",
        "\n",
        "The code here will contain only **import** statements. A base list of the required libraries are already imported. You will most likely not need any other libraries, but if needed, add the import statements here. As mentioned before, you can not use any premade chess libraries."
      ]
    },
    {
      "cell_type": "code",
      "metadata": {
        "id": "f9apbZGptej6"
      },
      "source": [
        "import numpy as np\n",
        "import string\n",
        "import random\n",
        "import os\n",
        "import sys\n",
        "import time\n",
        "from IPython.display import clear_output"
      ],
      "execution_count": null,
      "outputs": []
    },
    {
      "cell_type": "code",
      "metadata": {
        "id": "YdPwgSBOtb1P"
      },
      "source": [
        "def ChessBoardSetup():\n",
        "#black=lower case \n",
        "  coordinates = [[(i,j) for i in range(0,8)] for j in range(0,8)]\n",
        "  state = [\"rtbqkbtr\", \"pppppppp\", \"........\", \"........\", \"........\",\"........\", \"PPPPPPPP\", \"RTBQKBTR\"]\n",
        "  state = np.asarray([list(r) for r in state])\n",
        "  return state\n",
        "\n",
        "def DrawBoard(state):\n",
        "  for r in state:\n",
        "      print(' '.join(r))\n",
        "      \n",
        "def MovePiece(board_state,start,destination):\n",
        "    state=board_state.copy()\n",
        "    state[destination[0],destination[1]]=state[start[0],start[1]]\n",
        "    state[start[0],start[1]]= '.'\n",
        "    return state"
      ],
      "execution_count": null,
      "outputs": []
    },
    {
      "cell_type": "markdown",
      "metadata": {
        "id": "lYxmgcnes9cS"
      },
      "source": [
        "##ChessRules"
      ]
    },
    {
      "cell_type": "code",
      "metadata": {
        "id": "fbBNakSDq0Wv"
      },
      "source": [
        "def IsMoveLegal(board_state,start,destination,hypothetical=False):\n",
        "      return destination in GetListOfLegalMoves(board_state,start,hypothetical)\n",
        "      \n",
        "def GetListOfLegalMoves(state,start,hypothetical=False):\n",
        "  #main rules function\n",
        "  #dictionary of all possible moves for each Black and White piece \n",
        "  moves= {'p': lambda x:[[x[0]+1, x[1]], [x[0]+2, x[1]],[x[0]+1,x[1]+1], [x[0]+1, x[1]-1]],\n",
        "     'P': lambda x:[[x[0]-1, x[1]], [x[0]-2, x[1]], [x[0]-1,x[1]-1], [x[0]-1, x[1]+1]],\n",
        "     'k': lambda x:[[x[0]+1, x[1]+1], [x[0]-1, x[1]-1], [x[0]-1, x[1]+1], [x[0]+1, x[1]-1],[x[0]+1, x[1]], [x[0]-1, x[1]],[x[0], x[1]+1], [x[0], x[1]-1]],\n",
        "     'K': lambda x:[[x[0]+1, x[1]+1], [x[0]-1, x[1]-1], [x[0]-1, x[1]+1], [x[0]+1, x[1]-1],[x[0]+1, x[1]], [x[0]-1, x[1]],[x[0], x[1]+1], [x[0], x[1]-1]],\n",
        "     'r': lambda x:[[x[0], i] for i in range(state.shape[1]) if i != x[1]] + [[i, x[1]] for i in range(state.shape[0]) if i != x[0]],\n",
        "     'R': lambda x:[[x[0], i] for i in range(state.shape[1]) if i != x[1]] + [[i, x[1]] for i in range(state.shape[0]) if i != x[0]],\n",
        "     'b': lambda x:[[i,x[1]-(x[0]-i)] for i in range(state.shape[1]) if i != x[0]] + [[i,x[1]+(x[0]-i)] for i in range(state.shape[1]) if i != x[0]],\n",
        "     'B': lambda x:[[i,x[1]-(x[0]-i)] for i in range(state.shape[1]) if i != x[0]] + [[i,x[1]+(x[0]-i)] for i in range(state.shape[1]) if i != x[0]],\n",
        "     't': lambda x:[[x[0]+2, x[1]+1], [x[0]+1, x[1]+2], [x[0]-1, x[1]+2], [x[0]-2, x[1]+1], [x[0]-2, x[1]-1], [x[0]-1, x[1]-2], [x[0]+1, x[1]-2], [x[0]+2, x[1]-1]],\n",
        "     'T': lambda x:[[x[0]+2, x[1]+1], [x[0]+1, x[1]+2], [x[0]-1, x[1]+2], [x[0]-2, x[1]+1], [x[0]-2, x[1]-1], [x[0]-1, x[1]-2], [x[0]+1, x[1]-2], [x[0]+2, x[1]-1]]}\n",
        "\n",
        "  piece= state[start[0],start[1]]\n",
        "\n",
        "  #adds the Rook and Bishop rules towards the Queen's moving capabilities\n",
        "  if piece== '.':\n",
        "    return []\n",
        "  if piece.upper() == 'Q':\n",
        "    poss_move= moves['r'](start)+moves['b'](start)\n",
        "  else: \n",
        "    poss_move= moves[piece](start)\n",
        " \n",
        "  #pawn cases, down-selecting \n",
        "  if piece.upper() == 'P':\n",
        "    if piece == 'p' and start[0] != 1 :\n",
        "      del poss_move[1]\n",
        "    elif piece == 'P' and start[0] != 6:\n",
        "      del poss_move[1]\n",
        "    try:\n",
        "      if state[poss_move[0][0],poss_move[0][1]] != '.':\n",
        "        del poss_move[0]\n",
        "    except:\n",
        "        del poss_move[0]\n",
        "    try:\n",
        "      if state[poss_move[-2][0],poss_move[-2][1]]=='.' or state[poss_move[-2][0],poss_move[-2][1]].islower() == piece.islower():\n",
        "        del poss_move[-2]\n",
        "    except:\n",
        "      del poss_move[-2]\n",
        "    try:\n",
        "      if state[poss_move[-1][0],poss_move[-1][1]]=='.' or state[poss_move[-1][0],poss_move[-1][1]].islower() == piece.islower():\n",
        "        del poss_move[-1]\n",
        "    except:\n",
        "      del poss_move[-1]\n",
        "\n",
        "  #restricts possible movements to 8x8 board\n",
        "  on_board=[x for x in poss_move if x[0]>= 0 and x[0]<=7 and x[1]>=0 and x[1]<= 7]\n",
        "\n",
        "  #case:own piece is blocking movement\n",
        "  not_blocked= [x for x in on_board if state[x[0],x[1]]=='.' or state[x[0],x[1]].islower() != piece.islower()]\n",
        "  if piece.upper() in ['P', 'Q', 'B', 'R']:\n",
        "    not_blocked= [x for x in not_blocked if IsClearPath(state,start,x)]\n",
        "  if hypothetical:\n",
        "    return not_blocked\n",
        "\n",
        "  #case: restricts if player in check\n",
        "  player='black' if piece.islower() else 'white'\n",
        "  not_in_check=[x for x in not_blocked if not DoesMovePutPlayerInCheck(state,player,start,x)]\n",
        "  return not_in_check\n",
        "\n",
        "def GetPiecesWithLegalMoves(board_state,player):\n",
        "  # gets a list of all pieces for the current player that have legal moves \n",
        "  if player== 'black':\n",
        "    black_pieces= ['b','r','t','p','q','k']\n",
        "    black= np.isin(board_state,black_pieces)\n",
        "    pieces= np.array(np.nonzero(black)).T\n",
        "\n",
        "  elif player=='white':\n",
        "    white_pieces= ['B','R','T','P','Q','K']\n",
        "    white= np.isin(board_state, white_pieces)\n",
        "    pieces= np.array(np.nonzero(white)).T\n",
        "\n",
        "  moves=[GetListOfLegalMoves(board_state,x) for x in pieces]\n",
        "  list_of_pieces=[x.tolist() for i,x in enumerate(pieces) if moves[i]]\n",
        "  return list_of_pieces,[m for m in moves if m]\n",
        "\n",
        "def IsCheckmate(board_state,player):\n",
        "  # returns True if the current player is in checkmate, else False\n",
        "  return IsInCheck(board_state,player) and GetPiecesWithLegalMoves(board_state,player)[0]==[]\n",
        "\n",
        "def IsInCheck(board_state, player):\n",
        "  if player == 'black':\n",
        "    black_king=['k']\n",
        "    check_black= board_state == black_king\n",
        "    destination= np.array(np.nonzero(check_black)).T.tolist()[0]\n",
        "    white_pieces= ['B','R','T','P','Q']\n",
        "    white= np.isin(board_state, white_pieces)\n",
        "    enemy_pieces= np.array(np.nonzero(white)).T\n",
        "  else:\n",
        "    white_king=['K']\n",
        "    check_white= board_state == white_king\n",
        "    destination= np.array(np.nonzero(check_white)).T.tolist()[0]\n",
        "    black_pieces= ['b','r','t','p','q']\n",
        "    black= np.isin(board_state,black_pieces)\n",
        "    enemy_pieces= np.array(np.nonzero(black)).T\n",
        "\n",
        "  is_in_check= [x for x in enemy_pieces if IsMoveLegal(board_state,x,destination,hypothetical=True)]\n",
        "  return is_in_check != []\n",
        "  \n",
        "def IsClearPath(board_state,start,destination):  \n",
        "  #checks path between start and destination for any pieces in the way\n",
        "  if start[0] <= destination[0]:\n",
        "    rows= list(range(start[0]+1, destination[0]))\n",
        "    if start[1] <= destination[1]:\n",
        "      cols= list(range(start[1]+1,destination[1]))\n",
        "    elif start[1] > destination[1]:\n",
        "      cols= list(range(start[1]-1,destination[1],-1))\n",
        "  elif start[0] > destination[0]:\n",
        "    rows= list(range(destination[0]+1,start[0]))\n",
        "    if start[1] <= destination[1]:\n",
        "      cols= list(range(destination[1]-1,start[1],-1))\n",
        "    elif start[1] > destination[1]:\n",
        "      cols= list(range(start[1]+1,destination[1]))\n",
        "  \n",
        "  if not rows:\n",
        "    rows=[start[0] for i in range(len(cols))]\n",
        "  if not cols:\n",
        "    cols=[start[1] for i in range(len(rows))]\n",
        "  return (board_state[rows,cols]== \".\").all()\n",
        "  \n",
        "  \n",
        "def DoesMovePutPlayerInCheck(some_state,player, start, destination):\n",
        "    # returns True if it puts current player into check\n",
        "    state= MovePiece(some_state, start,destination)\n",
        "    return IsInCheck(state,player)\n",
        "    "
      ],
      "execution_count": null,
      "outputs": []
    },
    {
      "cell_type": "markdown",
      "metadata": {
        "id": "eDNztBkTtRPw"
      },
      "source": [
        "##RandomAI\n",
        "\n"
      ]
    },
    {
      "cell_type": "code",
      "metadata": {
        "id": "XELGzRDftS77"
      },
      "source": [
        "def GetRandomMove(board_state,player):\n",
        "  # pick a random piece and a random legal move for that piece\n",
        "  pieces,moves= GetPiecesWithLegalMoves(board_state,player)\n",
        "  i = np.random.randint(0,len(pieces)) if type(pieces[0]) == list else 0\n",
        "  piece= pieces[i]\n",
        "  moves= moves[i]\n",
        "  i= np.random.randint(0,len(moves)) if type(moves[0]) == list else 0\n",
        "  move= moves[i]\n",
        "  return piece,move"
      ],
      "execution_count": null,
      "outputs": []
    },
    {
      "cell_type": "markdown",
      "metadata": {
        "id": "YvYowzzA4vcd"
      },
      "source": [
        "##MinMaxAI"
      ]
    },
    {
      "cell_type": "code",
      "metadata": {
        "id": "FYSK99zp5a7H"
      },
      "source": [
        "def evaluation(board_state):\n",
        "  #evaluates piece cost for each and factors in the amount of legal moves for each potential piece\n",
        "  #more movment possiblities, better score\n",
        "\n",
        "  piece_cost={'p':1,'r':5,'t':3,'b':3,'q':9,'P':-1,'R':-5,'T':-3,'B':-3,'Q':-9, 'k':100, 'K':-100, '.':0}\n",
        "  compute_cost = np.vectorize(lambda x: piece_cost[x])\n",
        "  board_total=compute_cost(board_state).sum()\n",
        "  \n",
        "  pieces_b,moves=GetPiecesWithLegalMoves(board_state,'black')\n",
        "  board_total+=sum([len(m) for m in moves])\n",
        "\n",
        "  pieces_w,moves=GetPiecesWithLegalMoves(board_state,'white')\n",
        "  board_total-=sum([len(m) for m in moves])\n",
        "\n",
        "  return board_total\n",
        "\n",
        "def GetMinMaxMove(board_state,player,depth=2,cur_move=[0,0]):\n",
        "  pieces,destinations= GetPiecesWithLegalMoves(board_state,player)\n",
        "\n",
        "  if depth==0 or pieces==[]:\n",
        "    return evaluation(board_state),cur_move\n",
        "\n",
        "  if player == 'black':\n",
        "    best_score=-1e6\n",
        "    best_move=cur_move\n",
        "    for i,piece in enumerate(pieces):\n",
        "      for destination in destinations[i]:\n",
        "        moves=MovePiece(board_state,piece,destination)\n",
        "        scores,move=GetMinMaxMove(moves,'white',depth-1,[piece,destination])\n",
        "        best_score=max(best_score,scores)\n",
        "        best_move=[piece,destination] if best_score == scores else best_move\n",
        "    return best_score,best_move\n",
        "    \n",
        "  elif player == 'white':\n",
        "    best_score=1e6\n",
        "    best_move=cur_move\n",
        "    for i,piece in enumerate(pieces):\n",
        "      for destination in destinations[i]:\n",
        "        moves=MovePiece(board_state,piece,destination)\n",
        "        scores,move=GetMinMaxMove(moves,'black',depth-1,[piece,destination])\n",
        "        best_score=min(best_score,scores)\n",
        "        best_move=[piece,destination] if best_score == scores else best_move\n",
        "    return best_score,best_move\n",
        "    \n",
        "def GetAlphaBeta(board_state,player,alpha=-1e6,beta=1e6,depth=2,cur_move=[0,0]):\n",
        "  #extra credit MINMAX with Alpha Beta Pruning\n",
        "  pieces,destinations= GetPiecesWithLegalMoves(board_state,player)\n",
        "\n",
        "  if depth==0 or pieces==[]:\n",
        "    return evaluation(board_state),cur_move\n",
        "\n",
        "  if player == 'black':\n",
        "    best_score=-1e6\n",
        "    best_move=cur_move\n",
        "    for i,piece in enumerate(pieces):\n",
        "      for destination in destinations[i]:\n",
        "        moves=MovePiece(board_state,piece,destination)\n",
        "        scores,move=GetAlphaBeta(moves,'white',alpha,beta,depth-1,[piece,destination])\n",
        "        best_score=max(best_score,scores)\n",
        "        alpha=max(alpha,best_score)\n",
        "        best_move=[piece,destination] if best_score == scores else best_move\n",
        "        if best_score >= beta:\n",
        "          break\n",
        "    return best_score,best_move\n",
        "    \n",
        "  elif player == 'white':\n",
        "    best_score=1e6\n",
        "    best_move=cur_move\n",
        "    for i,piece in enumerate(pieces):\n",
        "      for destination in destinations[i]:\n",
        "        moves=MovePiece(board_state,piece,destination)\n",
        "        scores,move=GetAlphaBeta(moves,'black',alpha,beta,depth-1,[piece,destination])\n",
        "        best_score=min(best_score,scores)\n",
        "        beta=min(beta,best_score)\n",
        "        best_move=[piece,destination] if best_score == scores else best_move\n",
        "        if best_score <= alpha:\n",
        "          break\n",
        "    return best_score,best_move\n"
      ],
      "execution_count": null,
      "outputs": []
    },
    {
      "cell_type": "markdown",
      "metadata": {
        "id": "YCsUNyl3KWrb"
      },
      "source": [
        "#Game Setup & Main Loop\n",
        "\n",
        "(10 points)\n",
        "\n",
        "Write code below to have a game-play between two AIs - Random vs MinMax. For each iteration, draw the board before and after a turn. "
      ]
    },
    {
      "cell_type": "code",
      "metadata": {
        "colab": {
          "base_uri": "https://localhost:8080/"
        },
        "id": "oYcy29SdK3Xn",
        "outputId": "7a7f1692-8e63-414c-d04e-d722d0375658"
      },
      "source": [
        "state=ChessBoardSetup()\n",
        "DrawBoard(state)\n",
        "player='white'\n",
        "black_moves=[]\n",
        "white_moves=[]\n",
        "pieces=[]\n",
        "turn=0\n",
        "N=25\n",
        "\n",
        "while not IsCheckmate(state,player) and turn < N:\n",
        "  if player=='white':\n",
        "    move=GetRandomMove(state,player)\n",
        "    white_moves.append(move)\n",
        "    piece=state[move[0][0],move[0][1]]\n",
        "    state=MovePiece(state,move[0],move[1])\n",
        "    player='black'\n",
        "    time.sleep(1)\n",
        "  else:\n",
        "    score,move=GetAlphaBeta(state,player)\n",
        "    piece=state[move[0][0],move[0][1]]\n",
        "    state=MovePiece(state,move[0],move[1])\n",
        "    black_moves.append(move)\n",
        "    player='white'\n",
        "\n",
        "  clear_output()\n",
        "  DrawBoard(state)\n",
        "  turn+=0.5\n",
        "  pieces.append(piece)\n",
        "  print(f'turn: {turn}')\n",
        "  print(f'Log of White Moves: {white_moves}')\n",
        "  print(f'Log of Black Moves: {black_moves}')\n",
        "  print(f'Acting Pieces: {pieces}')\n",
        "\n",
        "# check and print - Stalemate or Checkmate\n",
        "if IsCheckmate(state,player)==True:\n",
        "  print('Checkmate')\n",
        "elif GetListOfLegalMoves(state,move[1])==[]:\n",
        "  print('Stalemate')"
      ],
      "execution_count": null,
      "outputs": [
        {
          "output_type": "stream",
          "name": "stdout",
          "text": [
            "r . . . k . . .\n",
            "p p p t . p . p\n",
            ". . . . . . . p\n",
            "P . . . b t . .\n",
            ". . b . K r . .\n",
            ". . . . . p . .\n",
            ". . . . . P . P\n",
            "R . . . . . . R\n",
            "turn: 24.0\n",
            "Log of White Moves: [([6, 6], [4, 6]), ([6, 4], [4, 4]), ([6, 3], [4, 3]), ([7, 3], [6, 3]), ([7, 5], [6, 4]), ([6, 1], [4, 1]), ([6, 3], [2, 7]), ([4, 3], [3, 4]), ([7, 1], [5, 2]), ([7, 4], [7, 3]), ([3, 4], [2, 4]), ([6, 4], [5, 5]), ([7, 3], [6, 4]), ([6, 0], [4, 0]), ([6, 4], [5, 4]), ([7, 0], [5, 0]), ([7, 6], [6, 4]), ([4, 0], [3, 0]), ([5, 4], [6, 3]), ([6, 3], [5, 4]), ([6, 2], [4, 2]), ([5, 4], [4, 4]), ([5, 0], [7, 0]), ([7, 2], [4, 5])]\n",
            "Log of Black Moves: [[[1, 4], [3, 4]], [[0, 3], [2, 5]], [[2, 5], [2, 4]], [[2, 4], [4, 6]], [[4, 6], [2, 4]], [[2, 4], [2, 7]], [[1, 6], [2, 7]], [[0, 5], [4, 1]], [[4, 1], [5, 2]], [[1, 3], [3, 3]], [[0, 2], [2, 4]], [[0, 1], [1, 3]], [[3, 3], [4, 4]], [[2, 4], [4, 2]], [[4, 4], [5, 5]], [[4, 2], [2, 0]], [[2, 0], [6, 4]], [[5, 2], [3, 4]], [[0, 6], [1, 4]], [[0, 7], [0, 6]], [[1, 4], [3, 5]], [[6, 4], [4, 2]], [[0, 6], [4, 6]], [[4, 6], [4, 5]]]\n",
            "Acting Pieces: ['P', 'p', 'P', 'q', 'P', 'q', 'Q', 'q', 'B', 'q', 'P', 'q', 'Q', 'p', 'P', 'b', 'T', 'b', 'K', 'p', 'P', 'b', 'B', 't', 'K', 'p', 'P', 'b', 'K', 'p', 'R', 'b', 'T', 'b', 'P', 'b', 'K', 't', 'K', 'r', 'P', 't', 'K', 'b', 'R', 'r', 'B', 'r']\n",
            "Checkmate\n"
          ]
        }
      ]
    }
  ]
}